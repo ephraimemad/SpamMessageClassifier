{
  "nbformat": 4,
  "nbformat_minor": 0,
  "metadata": {
    "colab": {
      "provenance": [],
      "authorship_tag": "ABX9TyNLLTtrsTQaj14g2nasKBEw",
      "include_colab_link": true
    },
    "kernelspec": {
      "name": "python3",
      "display_name": "Python 3"
    },
    "language_info": {
      "name": "python"
    }
  },
  "cells": [
    {
      "cell_type": "markdown",
      "metadata": {
        "id": "view-in-github",
        "colab_type": "text"
      },
      "source": [
        "<a href=\"https://colab.research.google.com/github/ephraimemad/SpamMessageClassifier/blob/main/Spam_Message_Classifier.ipynb\" target=\"_parent\"><img src=\"https://colab.research.google.com/assets/colab-badge.svg\" alt=\"Open In Colab\"/></a>"
      ]
    },
    {
      "cell_type": "code",
      "execution_count": 3,
      "metadata": {
        "colab": {
          "base_uri": "https://localhost:8080/"
        },
        "id": "a-xzvEgXKCtA",
        "outputId": "1ebf6b48-afa1-4ead-b11a-108816ae3287"
      },
      "outputs": [
        {
          "name": "stdout",
          "output_type": "stream",
          "text": [
            "Accuracy: 0.97847533632287\n",
            "Enter a message (or type 'quit'): click the link\n",
            "Prediction: Spam\n",
            "Enter a message (or type 'quit'): quit\n"
          ]
        }
      ],
      "source": [
        "import pandas as pd\n",
        "from sklearn.model_selection import train_test_split\n",
        "from sklearn.feature_extraction.text import CountVectorizer\n",
        "from sklearn.naive_bayes import MultinomialNB\n",
        "from sklearn.metrics import accuracy_score\n",
        "\n",
        "# Load dataset (download from https://www.kaggle.com/datasets/uciml/sms-spam-collection-dataset)\n",
        "df = pd.read_csv(\"spam.csv\", encoding='latin-1')[['v1', 'v2']]\n",
        "df.columns = ['label', 'message']\n",
        "\n",
        "# Preprocess\n",
        "X = df['message']\n",
        "y = df['label'].map({'ham': 0, 'spam': 1})\n",
        "\n",
        "vectorizer = CountVectorizer()\n",
        "X_vec = vectorizer.fit_transform(X)\n",
        "\n",
        "X_train, X_test, y_train, y_test = train_test_split(X_vec, y, test_size=0.2, random_state=42)\n",
        "\n",
        "# Train model\n",
        "model = MultinomialNB()\n",
        "model.fit(X_train, y_train)\n",
        "\n",
        "# Evaluate\n",
        "y_pred = model.predict(X_test)\n",
        "print(\"Accuracy:\", accuracy_score(y_test, y_pred))\n",
        "\n",
        "# Predict custom message\n",
        "def predict_message(msg):\n",
        "    vec = vectorizer.transform([msg])\n",
        "    pred = model.predict(vec)[0]\n",
        "    return \"Spam\" if pred == 1 else \"Not Spam\"\n",
        "\n",
        "while True:\n",
        "    text = input(\"Enter a message (or type 'quit'): \")\n",
        "    if text.lower() == \"quit\":\n",
        "        break\n",
        "    print(\"Prediction:\", predict_message(text))\n"
      ]
    },
    {
      "cell_type": "code",
      "source": [],
      "metadata": {
        "id": "HrvdgL5lKTRd"
      },
      "execution_count": null,
      "outputs": []
    }
  ]
}